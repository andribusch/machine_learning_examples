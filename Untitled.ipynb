{
 "cells": [
  {
   "cell_type": "code",
   "execution_count": 1,
   "id": "cdd6a764",
   "metadata": {},
   "outputs": [],
   "source": [
    "x1_mean=11\n",
    "x2_mean=7\n",
    "std1 = 4\n",
    "std2 = 5\n",
    "\n",
    "n1=150\n",
    "n2=127\n",
    "\n",
    "import scipy.stats"
   ]
  },
  {
   "cell_type": "code",
   "execution_count": 3,
   "id": "b5009979",
   "metadata": {},
   "outputs": [
    {
     "data": {
      "text/plain": [
       "7.260531896321549"
      ]
     },
     "execution_count": 3,
     "metadata": {},
     "output_type": "execute_result"
    }
   ],
   "source": [
    "(x1_mean - x2_mean) / ((((std1**2)/n1) + ((std2**2)/n2))**(1/2))"
   ]
  },
  {
   "cell_type": "code",
   "execution_count": 4,
   "id": "a2e1ddbb",
   "metadata": {},
   "outputs": [
    {
     "data": {
      "text/plain": [
       "-3.9721250959376615"
      ]
     },
     "execution_count": 4,
     "metadata": {},
     "output_type": "execute_result"
    }
   ],
   "source": [
    "(-1) / (3/(142**(1/2))) "
   ]
  },
  {
   "cell_type": "code",
   "execution_count": null,
   "id": "70d01f5e",
   "metadata": {},
   "outputs": [],
   "source": []
  }
 ],
 "metadata": {
  "kernelspec": {
   "display_name": "Python 3 (ipykernel)",
   "language": "python",
   "name": "python3"
  },
  "language_info": {
   "codemirror_mode": {
    "name": "ipython",
    "version": 3
   },
   "file_extension": ".py",
   "mimetype": "text/x-python",
   "name": "python",
   "nbconvert_exporter": "python",
   "pygments_lexer": "ipython3",
   "version": "3.8.10"
  }
 },
 "nbformat": 4,
 "nbformat_minor": 5
}
